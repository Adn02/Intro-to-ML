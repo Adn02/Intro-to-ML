{
  "nbformat": 4,
  "nbformat_minor": 0,
  "metadata": {
    "colab": {
      "provenance": []
    },
    "kernelspec": {
      "name": "python3",
      "display_name": "Python 3"
    },
    "language_info": {
      "name": "python"
    }
  },
  "cells": [
    {
      "cell_type": "markdown",
      "source": [
        "**Import Libraries**"
      ],
      "metadata": {
        "id": "P1bSuCOFXk8M"
      }
    },
    {
      "cell_type": "code",
      "execution_count": 10,
      "metadata": {
        "id": "4BhLktqLD5cd"
      },
      "outputs": [],
      "source": [
        "import numpy as np\n",
        "import pandas as pd\n",
        "import matplotlib.pyplot as plt\n",
        "\n",
        "url = \"https://raw.githubusercontent.com/Adn02/Intro-to-ML/main/Datasets/D3.csv\"\n",
        "df = pd.read_csv(url)"
      ]
    },
    {
      "cell_type": "markdown",
      "source": [
        "**Pre-processing**"
      ],
      "metadata": {
        "id": "QdBGLOMrXeOE"
      }
    },
    {
      "cell_type": "code",
      "source": [
        "x =  df.values[:, :3]\n",
        "Y =  df.values[:, 3]\n",
        "m = len(Y)\n",
        "\n",
        "x0 = np.ones((m,1))\n",
        "X = np.hstack((x0, x))\n",
        "theta = np.zeros(4)"
      ],
      "metadata": {
        "id": "0T6FaaI5HN86"
      },
      "execution_count": 11,
      "outputs": []
    },
    {
      "cell_type": "markdown",
      "source": [
        "**Cost function algorithm**"
      ],
      "metadata": {
        "id": "Va86RB7rYBZu"
      }
    },
    {
      "cell_type": "code",
      "source": [
        "def cost_function(X, Y, theta):\n",
        "  h_theta = X.dot(theta)\n",
        "  error = np.subtract(h_theta, Y)\n",
        "\n",
        "  J = 1/(2*m) * np.sum(np.square(error))\n",
        "  return J"
      ],
      "metadata": {
        "id": "05Eopnt7O7rH"
      },
      "execution_count": 12,
      "outputs": []
    },
    {
      "cell_type": "markdown",
      "source": [
        "**Gradient descent algorithm**"
      ],
      "metadata": {
        "id": "OytvvCv5Yz9k"
      }
    },
    {
      "cell_type": "code",
      "source": [
        "def gradient_descent(X, Y, theta, alpha, iterations):\n",
        "  previous_costs = np.zeros(iterations)\n",
        "\n",
        "  for i in range(iterations):\n",
        "    h_theta = X.dot(theta)\n",
        "    error = np.subtract(h_theta, Y)\n",
        "    gradient = (1 / m) * X.transpose().dot(error)\n",
        "\n",
        "    theta = theta - (alpha * gradient)\n",
        "\n",
        "    previous_costs[i] = cost_function(X,Y,theta)\n",
        "  return theta, previous_costs"
      ],
      "metadata": {
        "id": "EdxwqWN0YEXn"
      },
      "execution_count": 13,
      "outputs": []
    },
    {
      "cell_type": "code",
      "source": [
        "iterations = 1500\n",
        "\n",
        "alpha = 0.05\n",
        "theta1, previous_costs = gradient_descent(X, Y, theta, alpha, iterations)\n",
        "\n",
        "alpha2 = 0.1\n",
        "theta2, previous_costs_2 = gradient_descent(X, Y, theta, alpha2, iterations)\n",
        "\n",
        "alpha3 = 0.01\n",
        "theta3, previous_costs_3 = gradient_descent(X, Y, theta, alpha3, iterations)\n",
        "\n",
        "print('Linear Model for all variables: h(x) =')\n",
        "print(theta1[0], '* x_0 +', theta1[1], '* x_1 +', theta1[2], '* x_2 +', theta1[3], '* x_3')\n",
        "\n",
        "print('\\nFinal cost:', previous_costs[iterations-1])"
      ],
      "metadata": {
        "colab": {
          "base_uri": "https://localhost:8080/"
        },
        "id": "XMVY55uLfN82",
        "outputId": "c7a39d0b-9506-466f-c671-91616d2aae1d"
      },
      "execution_count": 14,
      "outputs": [
        {
          "output_type": "stream",
          "name": "stdout",
          "text": [
            "Linear Model for all variables: h(x) =\n",
            "5.31128136151726 * x_0 + -2.0033116002156244 * x_1 + 0.533040198521228 * x_2 + -0.26517886428822757 * x_3\n",
            "Final cost: 0.7384646851794184\n"
          ]
        }
      ]
    },
    {
      "cell_type": "markdown",
      "source": [
        "**Prediction algorithm**"
      ],
      "metadata": {
        "id": "sV8ZR7eaO57M"
      }
    },
    {
      "cell_type": "code",
      "source": [
        "def predict(X, theta):\n",
        "  predictedValue = theta[0] + theta[1]*X[0] + theta[2]*X[1] + theta[3]*X[2]\n",
        "  return predictedValue"
      ],
      "metadata": {
        "id": "CEZoS3YaO8S8"
      },
      "execution_count": 15,
      "outputs": []
    },
    {
      "cell_type": "code",
      "source": [
        "# Predict the value of y for new (X1, X2, X3) values\n",
        "newX = [1, 1, 1]\n",
        "print('\\nGiven X:', newX, '... The predicted value of Y:', predict(newX, theta1))\n",
        "newX = [2, 0, 4]\n",
        "print('Given X:', newX, '... The predicted value of Y:', predict(newX, theta1))\n",
        "newX = [3, 2, 1]\n",
        "print('Given X:', newX, '... The predicted value of Y:', predict(newX, theta1))"
      ],
      "metadata": {
        "colab": {
          "base_uri": "https://localhost:8080/"
        },
        "id": "wBVJSvcPzNC7",
        "outputId": "6b55822a-4832-42f7-b2ef-cbd67faccc81"
      },
      "execution_count": 16,
      "outputs": [
        {
          "output_type": "stream",
          "name": "stdout",
          "text": [
            "\n",
            "Given X: [1, 1, 1] ... The predicted value of Y: 3.575831095534636\n",
            "Given X: [2, 0, 4] ... The predicted value of Y: 0.2439427039331008\n",
            "Given X: [3, 2, 1] ... The predicted value of Y: 0.10224809362461551\n"
          ]
        }
      ]
    },
    {
      "cell_type": "markdown",
      "source": [
        "**Final Regression Model and Loss over Iteration for all inputs**"
      ],
      "metadata": {
        "id": "OWQEvwKKgOeh"
      }
    },
    {
      "cell_type": "code",
      "source": [
        "# Gradient Descent Plot\n",
        "Iterations = range(1, iterations+1)\n",
        "\n",
        "plt.plot(Iterations, previous_costs, color='red', label='alpha = 0.05')\n",
        "\n",
        "# Gradient Descent Plot with different learning rates\n",
        "plt.plot(Iterations, previous_costs_2, color='blue', label='alpha = 0.1')\n",
        "plt.plot(Iterations, previous_costs_3, color='green', label='alpha = 0.01')\n",
        "\n",
        "plt.grid(True)\n",
        "plt.legend()\n",
        "plt.title('Gradient Descent for Theta')\n",
        "plt.xlabel('Iterations')\n",
        "plt.ylabel('Loss')\n",
        "plt.rcParams[\"figure.figsize\"] = (6,6)\n",
        "\n",
        "plt.show()"
      ],
      "metadata": {
        "colab": {
          "base_uri": "https://localhost:8080/",
          "height": 564
        },
        "id": "DPY_d7FMgH2N",
        "outputId": "b6653631-efd4-4b61-93bf-cb605eb0311c"
      },
      "execution_count": 17,
      "outputs": [
        {
          "output_type": "display_data",
          "data": {
            "text/plain": [
              "<Figure size 600x600 with 1 Axes>"
            ],
            "image/png": "[encoded data removed]"
          },
          "metadata": {}
        }
      ]
    }
  ]
}