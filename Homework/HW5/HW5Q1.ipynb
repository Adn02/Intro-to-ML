{
  "nbformat": 4,
  "nbformat_minor": 0,
  "metadata": {
    "colab": {
      "provenance": [],
      "authorship_tag": "ABX9TyMQWwprxoBzu9GhmrpISMwS",
      "include_colab_link": true
    },
    "kernelspec": {
      "name": "python3",
      "display_name": "Python 3"
    },
    "language_info": {
      "name": "python"
    }
  },
  "cells": [
    {
      "cell_type": "markdown",
      "metadata": {
        "id": "view-in-github",
        "colab_type": "text"
      },
      "source": [
        "<a href=\"https://colab.research.google.com/github/Adn02/Intro-to-ML/blob/main/Homework/HW5/HW5Q1.ipynb\" target=\"_parent\"><img src=\"https://colab.research.google.com/assets/colab-badge.svg\" alt=\"Open In Colab\"/></a>"
      ]
    },
    {
      "cell_type": "code",
      "source": [
        "import matplotlib.pyplot as plt\n",
        "import torch.optim as optim\n",
        "import torch"
      ],
      "metadata": {
        "id": "lutQCAxKRqKU"
      },
      "execution_count": 73,
      "outputs": []
    },
    {
      "cell_type": "markdown",
      "source": [
        "# **Pre-processing**"
      ],
      "metadata": {
        "id": "YdhNZ-X5Jgr5"
      }
    },
    {
      "cell_type": "markdown",
      "source": [
        "\n",
        "> **Separating desired Features and Outputs**\n"
      ],
      "metadata": {
        "id": "P7TOheESYHX0"
      }
    },
    {
      "cell_type": "code",
      "source": [
        "x = [0.5, 14.0, 15.0, 28.0, 11.0, 8.0, 3.0, -4.0, 6.0, 13.0, 21.0]      # Y\n",
        "y = [35.7, 55.9, 58.2, 81.9, 56.3, 48.9, 33.9, 21.8, 48.4, 60.4, 68.4]  # X\n",
        "\n",
        "t_c = torch.tensor(y)\n",
        "t_u = torch.tensor(x)\n",
        "\n",
        "\n",
        "t_un = 0.1 * t_u"
      ],
      "metadata": {
        "id": "BR2P9oBbxTsy"
      },
      "execution_count": 74,
      "outputs": []
    },
    {
      "cell_type": "markdown",
      "source": [
        "\n",
        "> **Splitting Training and Validation Set**\n"
      ],
      "metadata": {
        "id": "mQegHOhRUvMk"
      }
    },
    {
      "cell_type": "code",
      "source": [
        "samples = t_u.shape[0]\n",
        "values = int(0.2 * samples)\n",
        "\n",
        "shuffle = torch.randperm(samples)\n",
        "train_idx = shuffle[:-values]\n",
        "valid_idx = shuffle[-values:]\n",
        "\n",
        "t_u_train = t_u[train_idx]\n",
        "t_u_valid = t_u[valid_idx]\n",
        "\n",
        "t_un_train = t_un[train_idx]\n",
        "t_un_valid = t_un[valid_idx]\n",
        "\n",
        "t_c_train = t_c[train_idx]\n",
        "t_c_valid = t_c[valid_idx]\n"
      ],
      "metadata": {
        "id": "u3BCCgFRIqWd"
      },
      "execution_count": 75,
      "outputs": []
    },
    {
      "cell_type": "markdown",
      "source": [
        "# **Training**"
      ],
      "metadata": {
        "id": "CmEw-pAmceNN"
      }
    },
    {
      "cell_type": "markdown",
      "source": [
        "\n",
        "\n",
        "> **Linear Regression Training**\n",
        "\n",
        "\n"
      ],
      "metadata": {
        "id": "66vEpOuC8tgf"
      }
    },
    {
      "cell_type": "code",
      "source": [
        "def lin_model(t_u, w, b):\n",
        "  return w*t_u + b\n",
        "\n",
        "def lin_training(epochs, optimizer, params, t_u_train, t_u_valid, t_c_train, t_c_valid):\n",
        "  for epoch in range(1, epochs+1):\n",
        "    t_p_train = lin_model(t_u_train, *params)\n",
        "    train_loss = cost(t_p_train, t_c_train)\n",
        "\n",
        "    t_p_valid = lin_model(t_u_valid, *params)\n",
        "    valid_loss = cost(t_p_valid, t_c_valid)\n",
        "\n",
        "    optimizer.zero_grad()\n",
        "    train_loss.backward()\n",
        "    optimizer.step()\n",
        "\n",
        "    if epoch % 500 == 0:\n",
        "      print(f'Epochs: {epoch}, \\tTraining Loss: {train_loss:.6f}, \\tValidation Loss: {valid_loss:.6f}')\n",
        "  print('')\n",
        "  return params"
      ],
      "metadata": {
        "id": "4igbJB8m8v9F"
      },
      "execution_count": 76,
      "outputs": []
    },
    {
      "cell_type": "markdown",
      "source": [
        "\n",
        "\n",
        "> **Non-linear Regression Training**\n",
        "\n",
        "\n"
      ],
      "metadata": {
        "id": "FEngeLJQcrY_"
      }
    },
    {
      "cell_type": "code",
      "source": [
        "def nonlin_model(t_u, w2, w1, b):\n",
        "  return w2*t_u**2 + w1*t_u + b\n",
        "\n",
        "def cost(t_p, t_c):\n",
        "  squared_diffs = (t_p - t_c)**2\n",
        "  return squared_diffs.mean()\n",
        "\n",
        "def nonlin_training(epochs, optimizer, params, t_u_train, t_u_valid, t_c_train, t_c_valid):\n",
        "  for epoch in range(1, epochs+1):\n",
        "    t_p_train = nonlin_model(t_u_train, *params)\n",
        "    train_loss = cost(t_p_train, t_c_train)\n",
        "\n",
        "    t_p_valid = nonlin_model(t_u_valid, *params)\n",
        "    valid_loss = cost(t_p_valid, t_c_valid)\n",
        "\n",
        "    optimizer.zero_grad()\n",
        "    train_loss.backward()\n",
        "    optimizer.step()\n",
        "\n",
        "    if epoch % 500 == 0:\n",
        "      print(f'Epochs: {epoch}, \\tTraining Loss: {train_loss:}, \\tValidation Loss: {valid_loss}')\n",
        "  print('')\n",
        "  return params"
      ],
      "metadata": {
        "id": "lAkc2_rMZ382"
      },
      "execution_count": 77,
      "outputs": []
    },
    {
      "cell_type": "markdown",
      "source": [
        "# **SGD Optimized Linear Model**"
      ],
      "metadata": {
        "id": "DBaC8cWVcVwc"
      }
    },
    {
      "cell_type": "markdown",
      "source": [
        "> *Trained with LR of* ***1e-1***"
      ],
      "metadata": {
        "id": "JBjQiAHRVlLS"
      }
    },
    {
      "cell_type": "code",
      "source": [
        "params = torch.tensor([1.0, 1.0, 0.0], requires_grad=True)\n",
        "\n",
        "optimizer = optim.SGD([params], lr = 1e-1)\n",
        "\n",
        "print('Learning rate of 0.1')\n",
        "nonlin_training(5000, optimizer, params, t_un_train, t_un_valid, t_c_train, t_c_valid)"
      ],
      "metadata": {
        "colab": {
          "base_uri": "https://localhost:8080/"
        },
        "id": "mQCUR_o9ZZIE",
        "outputId": "8a113c8c-cd02-4d23-d01e-121806d76132"
      },
      "execution_count": 78,
      "outputs": [
        {
          "output_type": "stream",
          "name": "stdout",
          "text": [
            "Learning rate of 0.1\n",
            "Epochs: 500, \tTraining Loss: nan, \tValidation Loss: nan\n",
            "Epochs: 1000, \tTraining Loss: nan, \tValidation Loss: nan\n",
            "Epochs: 1500, \tTraining Loss: nan, \tValidation Loss: nan\n",
            "Epochs: 2000, \tTraining Loss: nan, \tValidation Loss: nan\n",
            "Epochs: 2500, \tTraining Loss: nan, \tValidation Loss: nan\n",
            "Epochs: 3000, \tTraining Loss: nan, \tValidation Loss: nan\n",
            "Epochs: 3500, \tTraining Loss: nan, \tValidation Loss: nan\n",
            "Epochs: 4000, \tTraining Loss: nan, \tValidation Loss: nan\n",
            "Epochs: 4500, \tTraining Loss: nan, \tValidation Loss: nan\n",
            "Epochs: 5000, \tTraining Loss: nan, \tValidation Loss: nan\n",
            "\n"
          ]
        },
        {
          "output_type": "execute_result",
          "data": {
            "text/plain": [
              "tensor([nan, nan, nan], requires_grad=True)"
            ]
          },
          "metadata": {},
          "execution_count": 78
        }
      ]
    },
    {
      "cell_type": "markdown",
      "source": [
        "> *Trained with LR of* ***1e-2***"
      ],
      "metadata": {
        "id": "oSL7G0l5ab7_"
      }
    },
    {
      "cell_type": "code",
      "source": [
        "params = torch.tensor([1.0, 1.0, 0.0], requires_grad=True)\n",
        "\n",
        "optimizer = optim.SGD([params], lr = 1e-2)\n",
        "\n",
        "print('Learning rate of 0.01')\n",
        "nonlin_training(5000, optimizer, params, t_un_train, t_un_valid, t_c_train, t_c_valid)"
      ],
      "metadata": {
        "colab": {
          "base_uri": "https://localhost:8080/"
        },
        "id": "60hsgyJ0akgG",
        "outputId": "cbc077e3-f52c-4886-cefb-18bd367d1647"
      },
      "execution_count": 79,
      "outputs": [
        {
          "output_type": "stream",
          "name": "stdout",
          "text": [
            "Learning rate of 0.01\n",
            "Epochs: 500, \tTraining Loss: 8.403675079345703, \tValidation Loss: 4.697275638580322\n",
            "Epochs: 1000, \tTraining Loss: 8.399521827697754, \tValidation Loss: 4.594749927520752\n",
            "Epochs: 1500, \tTraining Loss: 8.39903450012207, \tValidation Loss: 4.610844135284424\n",
            "Epochs: 2000, \tTraining Loss: 8.398723602294922, \tValidation Loss: 4.625665664672852\n",
            "Epochs: 2500, \tTraining Loss: 8.398529052734375, \tValidation Loss: 4.638632774353027\n",
            "Epochs: 3000, \tTraining Loss: 8.398391723632812, \tValidation Loss: 4.649709224700928\n",
            "Epochs: 3500, \tTraining Loss: 8.398319244384766, \tValidation Loss: 4.658937931060791\n",
            "Epochs: 4000, \tTraining Loss: 8.398268699645996, \tValidation Loss: 4.6666107177734375\n",
            "Epochs: 4500, \tTraining Loss: 8.398235321044922, \tValidation Loss: 4.672919750213623\n",
            "Epochs: 5000, \tTraining Loss: 8.398212432861328, \tValidation Loss: 4.677994251251221\n",
            "\n"
          ]
        },
        {
          "output_type": "execute_result",
          "data": {
            "text/plain": [
              "tensor([-1.5324, 21.6831, 31.7347], requires_grad=True)"
            ]
          },
          "metadata": {},
          "execution_count": 79
        }
      ]
    },
    {
      "cell_type": "markdown",
      "source": [
        "> *Trained with LR of* ***1e-3***"
      ],
      "metadata": {
        "id": "nf1xB85OacBm"
      }
    },
    {
      "cell_type": "code",
      "source": [
        "params = torch.tensor([1.0, 1.0, 0.0], requires_grad=True)\n",
        "\n",
        "optimizer = optim.SGD([params], lr = 1e-3)\n",
        "\n",
        "print('Learning rate of 0.001')\n",
        "nonlin_training(5000, optimizer, params, t_un_train, t_un_valid, t_c_train, t_c_valid)"
      ],
      "metadata": {
        "colab": {
          "base_uri": "https://localhost:8080/"
        },
        "id": "SC5bo03lallz",
        "outputId": "b55d7978-7058-44d2-91f8-aa9b15ecc7d7"
      },
      "execution_count": 80,
      "outputs": [
        {
          "output_type": "stream",
          "name": "stdout",
          "text": [
            "Learning rate of 0.001\n",
            "Epochs: 500, \tTraining Loss: 238.50973510742188, \tValidation Loss: 229.13327026367188\n",
            "Epochs: 1000, \tTraining Loss: 75.58393859863281, \tValidation Loss: 77.45906066894531\n",
            "Epochs: 1500, \tTraining Loss: 28.015872955322266, \tValidation Loss: 29.8281307220459\n",
            "Epochs: 2000, \tTraining Loss: 14.127741813659668, \tValidation Loss: 14.104024887084961\n",
            "Epochs: 2500, \tTraining Loss: 10.072823524475098, \tValidation Loss: 8.52658748626709\n",
            "Epochs: 3000, \tTraining Loss: 8.88888168334961, \tValidation Loss: 6.363135814666748\n",
            "Epochs: 3500, \tTraining Loss: 8.543128967285156, \tValidation Loss: 5.441476345062256\n",
            "Epochs: 4000, \tTraining Loss: 8.442102432250977, \tValidation Loss: 5.015514373779297\n",
            "Epochs: 4500, \tTraining Loss: 8.4125394821167, \tValidation Loss: 4.806567192077637\n",
            "Epochs: 5000, \tTraining Loss: 8.403838157653809, \tValidation Loss: 4.700201988220215\n",
            "\n"
          ]
        },
        {
          "output_type": "execute_result",
          "data": {
            "text/plain": [
              "tensor([-1.4393, 21.4363, 31.8146], requires_grad=True)"
            ]
          },
          "metadata": {},
          "execution_count": 80
        }
      ]
    },
    {
      "cell_type": "markdown",
      "source": [
        "> *Trained with LR of* ***1e-4***"
      ],
      "metadata": {
        "id": "WUfYKf_VacGb"
      }
    },
    {
      "cell_type": "code",
      "source": [
        "params = torch.tensor([1.0, 1.0, 0.0], requires_grad=True)\n",
        "\n",
        "optimizer = optim.SGD([params], lr = 1e-4)\n",
        "\n",
        "print('Learning rate of 0.0001')\n",
        "nonlin_training(5000, optimizer, params, t_un_train, t_un_valid, t_c_train, t_c_valid)"
      ],
      "metadata": {
        "colab": {
          "base_uri": "https://localhost:8080/"
        },
        "id": "w_x0s1c-ankn",
        "outputId": "a108f197-fd57-483e-d3d4-85d26a59c622"
      },
      "execution_count": 81,
      "outputs": [
        {
          "output_type": "stream",
          "name": "stdout",
          "text": [
            "Learning rate of 0.0001\n",
            "Epochs: 500, \tTraining Loss: 858.6043701171875, \tValidation Loss: 682.740234375\n",
            "Epochs: 1000, \tTraining Loss: 634.362548828125, \tValidation Loss: 583.4526977539062\n",
            "Epochs: 1500, \tTraining Loss: 552.8631591796875, \tValidation Loss: 513.2328491210938\n",
            "Epochs: 2000, \tTraining Loss: 489.17962646484375, \tValidation Loss: 455.389892578125\n",
            "Epochs: 2500, \tTraining Loss: 433.4704895019531, \tValidation Loss: 405.2010498046875\n",
            "Epochs: 3000, \tTraining Loss: 384.25439453125, \tValidation Loss: 360.96148681640625\n",
            "Epochs: 3500, \tTraining Loss: 340.7393798828125, \tValidation Loss: 321.7815246582031\n",
            "Epochs: 4000, \tTraining Loss: 302.262451171875, \tValidation Loss: 287.0307922363281\n",
            "Epochs: 4500, \tTraining Loss: 268.2403259277344, \tValidation Loss: 256.19073486328125\n",
            "Epochs: 5000, \tTraining Loss: 238.15711975097656, \tValidation Loss: 228.81192016601562\n",
            "\n"
          ]
        },
        {
          "output_type": "execute_result",
          "data": {
            "text/plain": [
              "tensor([ 6.0195, 13.1713, 16.1138], requires_grad=True)"
            ]
          },
          "metadata": {},
          "execution_count": 81
        }
      ]
    },
    {
      "cell_type": "markdown",
      "source": [
        "# **Adam Optimized Linear Model**"
      ],
      "metadata": {
        "id": "0sNqhdDjwlxF"
      }
    },
    {
      "cell_type": "markdown",
      "source": [
        "> *Trained with LR of* ***1e-1***"
      ],
      "metadata": {
        "id": "Yj0i4qutTbVb"
      }
    },
    {
      "cell_type": "code",
      "source": [
        "params = torch.tensor([1.0, 1.0, 0.0], requires_grad=True)\n",
        "\n",
        "optimizer = optim.Adam([params], lr = 1e-1)\n",
        "\n",
        "print('Learning rate of 0.1')\n",
        "nonlin_training(5000, optimizer, params, t_u_train, t_u_valid, t_c_train, t_c_valid)"
      ],
      "metadata": {
        "colab": {
          "base_uri": "https://localhost:8080/"
        },
        "id": "OdpKAha4be5i",
        "outputId": "321272a4-e72d-419a-e002-17e3c077e6a7"
      },
      "execution_count": 82,
      "outputs": [
        {
          "output_type": "stream",
          "name": "stdout",
          "text": [
            "Learning rate of 0.1\n",
            "Epochs: 500, \tTraining Loss: 35.07783889770508, \tValidation Loss: 600.6097412109375\n",
            "Epochs: 1000, \tTraining Loss: 25.24614906311035, \tValidation Loss: 422.357421875\n",
            "Epochs: 1500, \tTraining Loss: 18.179141998291016, \tValidation Loss: 250.20547485351562\n",
            "Epochs: 2000, \tTraining Loss: 13.00792407989502, \tValidation Loss: 123.15242767333984\n",
            "Epochs: 2500, \tTraining Loss: 10.08259105682373, \tValidation Loss: 50.076995849609375\n",
            "Epochs: 3000, \tTraining Loss: 8.845559120178223, \tValidation Loss: 18.074447631835938\n",
            "Epochs: 3500, \tTraining Loss: 8.477374076843262, \tValidation Loss: 7.732101917266846\n",
            "Epochs: 4000, \tTraining Loss: 8.406505584716797, \tValidation Loss: 5.269930362701416\n",
            "Epochs: 4500, \tTraining Loss: 8.398621559143066, \tValidation Loss: 4.796293258666992\n",
            "Epochs: 5000, \tTraining Loss: 8.398191452026367, \tValidation Loss: 4.712553024291992\n",
            "\n"
          ]
        },
        {
          "output_type": "execute_result",
          "data": {
            "text/plain": [
              "tensor([-1.5465e-02,  2.1731e+00,  3.1702e+01], requires_grad=True)"
            ]
          },
          "metadata": {},
          "execution_count": 82
        }
      ]
    },
    {
      "cell_type": "markdown",
      "source": [
        "> *Trained with LR of* ***1e-2***"
      ],
      "metadata": {
        "id": "tcmbDHxObbfs"
      }
    },
    {
      "cell_type": "code",
      "source": [
        "params = torch.tensor([1.0, 1.0, 0.0], requires_grad=True)\n",
        "\n",
        "optimizer = optim.Adam([params], lr = 1e-2)\n",
        "\n",
        "print('Learning rate of 0.01')\n",
        "nonlin_training(5000, optimizer, params, t_u_train, t_u_valid, t_c_train, t_c_valid)"
      ],
      "metadata": {
        "colab": {
          "base_uri": "https://localhost:8080/"
        },
        "id": "tnEzsq5mbfKP",
        "outputId": "ca5e3c0d-b139-4f14-9d77-45e3106c319c"
      },
      "execution_count": 83,
      "outputs": [
        {
          "output_type": "stream",
          "name": "stdout",
          "text": [
            "Learning rate of 0.01\n",
            "Epochs: 500, \tTraining Loss: 871.6930541992188, \tValidation Loss: 832.5169067382812\n",
            "Epochs: 1000, \tTraining Loss: 562.2626953125, \tValidation Loss: 764.0894775390625\n",
            "Epochs: 1500, \tTraining Loss: 306.7404479980469, \tValidation Loss: 713.1177368164062\n",
            "Epochs: 2000, \tTraining Loss: 146.6776123046875, \tValidation Loss: 681.7320556640625\n",
            "Epochs: 2500, \tTraining Loss: 69.63380432128906, \tValidation Loss: 660.8252563476562\n",
            "Epochs: 3000, \tTraining Loss: 41.869937896728516, \tValidation Loss: 639.3862915039062\n",
            "Epochs: 3500, \tTraining Loss: 34.13653564453125, \tValidation Loss: 610.2462158203125\n",
            "Epochs: 4000, \tTraining Loss: 31.500526428222656, \tValidation Loss: 571.1619873046875\n",
            "Epochs: 4500, \tTraining Loss: 29.394906997680664, \tValidation Loss: 522.6727294921875\n",
            "Epochs: 5000, \tTraining Loss: 27.048540115356445, \tValidation Loss: 465.990234375\n",
            "\n"
          ]
        },
        {
          "output_type": "execute_result",
          "data": {
            "text/plain": [
              "tensor([-0.0788,  4.3958, 15.7947], requires_grad=True)"
            ]
          },
          "metadata": {},
          "execution_count": 83
        }
      ]
    },
    {
      "cell_type": "markdown",
      "source": [
        "> *Trained with LR of* ***1e-3***"
      ],
      "metadata": {
        "id": "PBGnpYS9bblJ"
      }
    },
    {
      "cell_type": "code",
      "source": [
        "params = torch.tensor([1.0, 1.0, 0.0], requires_grad=True)\n",
        "\n",
        "optimizer = optim.Adam([params], lr = 1e-3)\n",
        "\n",
        "print('Learning rate of 0.01')\n",
        "nonlin_training(5000, optimizer, params, t_u_train, t_u_valid, t_c_train, t_c_valid)"
      ],
      "metadata": {
        "colab": {
          "base_uri": "https://localhost:8080/"
        },
        "id": "gLINIoS2bgBS",
        "outputId": "37ef0c26-cee2-4bb9-ca65-c9ec7befa70b"
      },
      "execution_count": 84,
      "outputs": [
        {
          "output_type": "stream",
          "name": "stdout",
          "text": [
            "Learning rate of 0.01\n",
            "Epochs: 500, \tTraining Loss: 22071.1640625, \tValidation Loss: 754.6742553710938\n",
            "Epochs: 1000, \tTraining Loss: 4047.19189453125, \tValidation Loss: 828.6055297851562\n",
            "Epochs: 1500, \tTraining Loss: 1237.822021484375, \tValidation Loss: 862.529296875\n",
            "Epochs: 2000, \tTraining Loss: 1027.2274169921875, \tValidation Loss: 867.0682373046875\n",
            "Epochs: 2500, \tTraining Loss: 988.5973510742188, \tValidation Loss: 860.468994140625\n",
            "Epochs: 3000, \tTraining Loss: 946.3984375, \tValidation Loss: 851.3829345703125\n",
            "Epochs: 3500, \tTraining Loss: 896.4603271484375, \tValidation Loss: 842.1224975585938\n",
            "Epochs: 4000, \tTraining Loss: 838.8800048828125, \tValidation Loss: 833.7113647460938\n",
            "Epochs: 4500, \tTraining Loss: 774.189453125, \tValidation Loss: 827.0999145507812\n",
            "Epochs: 5000, \tTraining Loss: 703.4484252929688, \tValidation Loss: 823.1676025390625\n",
            "\n"
          ]
        },
        {
          "output_type": "execute_result",
          "data": {
            "text/plain": [
              "tensor([0.0976, 1.1020, 1.6770], requires_grad=True)"
            ]
          },
          "metadata": {},
          "execution_count": 84
        }
      ]
    },
    {
      "cell_type": "markdown",
      "source": [
        "> *Trained with LR of* ***1e-4***"
      ],
      "metadata": {
        "id": "TCFIfv3Lbbp2"
      }
    },
    {
      "cell_type": "code",
      "source": [
        "params = torch.tensor([1.0, 1.0, 0.0], requires_grad=True)\n",
        "\n",
        "optimizer = optim.Adam([params], lr = 1e-4)\n",
        "\n",
        "print('Learning rate of 0.01')\n",
        "nonlin_training(5000, optimizer, params, t_u_train, t_u_valid, t_c_train, t_c_valid)"
      ],
      "metadata": {
        "colab": {
          "base_uri": "https://localhost:8080/"
        },
        "id": "DtdXZtGcbgv_",
        "outputId": "8cab520b-f3f9-4cca-8533-cd7c693cd5d9"
      },
      "execution_count": 85,
      "outputs": [
        {
          "output_type": "stream",
          "name": "stdout",
          "text": [
            "Learning rate of 0.01\n",
            "Epochs: 500, \tTraining Loss: 75734.4921875, \tValidation Loss: 668.264892578125\n",
            "Epochs: 1000, \tTraining Loss: 67083.890625, \tValidation Loss: 677.9285888671875\n",
            "Epochs: 1500, \tTraining Loss: 59146.95703125, \tValidation Loss: 687.7474365234375\n",
            "Epochs: 2000, \tTraining Loss: 51866.41015625, \tValidation Loss: 697.7255249023438\n",
            "Epochs: 2500, \tTraining Loss: 45195.671875, \tValidation Loss: 707.86474609375\n",
            "Epochs: 3000, \tTraining Loss: 39097.31640625, \tValidation Loss: 718.1637573242188\n",
            "Epochs: 3500, \tTraining Loss: 33541.171875, \tValidation Loss: 728.6166381835938\n",
            "Epochs: 4000, \tTraining Loss: 28502.65234375, \tValidation Loss: 739.2115478515625\n",
            "Epochs: 4500, \tTraining Loss: 23961.2734375, \tValidation Loss: 749.9302368164062\n",
            "Epochs: 5000, \tTraining Loss: 19899.1484375, \tValidation Loss: 760.7470703125\n",
            "\n"
          ]
        },
        {
          "output_type": "execute_result",
          "data": {
            "text/plain": [
              "tensor([ 0.5497,  0.5524, -0.4408], requires_grad=True)"
            ]
          },
          "metadata": {},
          "execution_count": 85
        }
      ]
    },
    {
      "cell_type": "markdown",
      "source": [
        "# **Plotting SGD Optimized Linear vs Nonlinear Models**"
      ],
      "metadata": {
        "id": "kZEoVBjlcOYH"
      }
    },
    {
      "cell_type": "code",
      "source": [
        "lin_params = torch.tensor([1.0, 0.0], requires_grad=True)\n",
        "nonlin_params = torch.tensor([1.0, 1.0, 0.0], requires_grad=True)\n",
        "\n",
        "lin_optimizer = optim.SGD([lin_params], lr = 1e-3)\n",
        "SGD = optim.SGD([nonlin_params], lr = 1e-2)\n",
        "\n",
        "lin = lin_training(5000, lin_optimizer, lin_params, t_u_train, t_u_valid, t_c_train, t_c_valid)\n",
        "nonlin_SGD = nonlin_training(5000, SGD, nonlin_params, t_un_train, t_un_valid, t_c_train, t_c_valid)\n",
        "\n",
        "t_p_lin = lin_model(t_u, *lin).detach().numpy()\n",
        "t_p_nonSGD = nonlin_model(t_un, *nonlin_SGD).detach().numpy()\n",
        "\n",
        "plt.scatter(t_u, t_c, label = 'Data points')\n",
        "plt.plot(t_u, t_p_lin, label = 'SGD Linear Model')\n",
        "plt.plot(t_u, t_p_nonSGD, label = 'SGD Optimized Non-linear Model')\n",
        "\n",
        "plt.legend()\n",
        "plt.show()"
      ],
      "metadata": {
        "colab": {
          "base_uri": "https://localhost:8080/",
          "height": 812
        },
        "id": "6k8ugHfT5jRi",
        "outputId": "e80c54a5-f08a-4aea-89d0-345d9eb05028"
      },
      "execution_count": 100,
      "outputs": [
        {
          "output_type": "stream",
          "name": "stdout",
          "text": [
            "Epochs: 500, \tTraining Loss: 181.242233, \tValidation Loss: 745.530273\n",
            "Epochs: 1000, \tTraining Loss: 117.849762, \tValidation Loss: 446.153503\n",
            "Epochs: 1500, \tTraining Loss: 77.820282, \tValidation Loss: 263.501434\n",
            "Epochs: 2000, \tTraining Loss: 52.543381, \tValidation Loss: 153.243042\n",
            "Epochs: 2500, \tTraining Loss: 36.582161, \tValidation Loss: 87.655472\n",
            "Epochs: 3000, \tTraining Loss: 26.503319, \tValidation Loss: 49.446457\n",
            "Epochs: 3500, \tTraining Loss: 20.138994, \tValidation Loss: 27.867550\n",
            "Epochs: 4000, \tTraining Loss: 16.120197, \tValidation Loss: 16.266405\n",
            "Epochs: 4500, \tTraining Loss: 13.582485, \tValidation Loss: 10.549874\n",
            "Epochs: 5000, \tTraining Loss: 11.980041, \tValidation Loss: 8.218876\n",
            "\n",
            "Epochs: 500, \tTraining Loss: 8.403675079345703, \tValidation Loss: 4.697275638580322\n",
            "Epochs: 1000, \tTraining Loss: 8.399521827697754, \tValidation Loss: 4.594749927520752\n",
            "Epochs: 1500, \tTraining Loss: 8.39903450012207, \tValidation Loss: 4.610844135284424\n",
            "Epochs: 2000, \tTraining Loss: 8.398723602294922, \tValidation Loss: 4.625665664672852\n",
            "Epochs: 2500, \tTraining Loss: 8.398529052734375, \tValidation Loss: 4.638632774353027\n",
            "Epochs: 3000, \tTraining Loss: 8.398391723632812, \tValidation Loss: 4.649709224700928\n",
            "Epochs: 3500, \tTraining Loss: 8.398319244384766, \tValidation Loss: 4.658937931060791\n",
            "Epochs: 4000, \tTraining Loss: 8.398268699645996, \tValidation Loss: 4.6666107177734375\n",
            "Epochs: 4500, \tTraining Loss: 8.398235321044922, \tValidation Loss: 4.672919750213623\n",
            "Epochs: 5000, \tTraining Loss: 8.398212432861328, \tValidation Loss: 4.677994251251221\n",
            "\n"
          ]
        },
        {
          "output_type": "display_data",
          "data": {
            "text/plain": [
              "<Figure size 640x480 with 1 Axes>"
            ],
            "image/png": "[encoded data removed]"
          },
          "metadata": {}
        }
      ]
    }
  ]
}