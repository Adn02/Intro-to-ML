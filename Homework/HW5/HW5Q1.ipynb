{
  "nbformat": 4,
  "nbformat_minor": 0,
  "metadata": {
    "colab": {
      "provenance": [],
      "authorship_tag": "ABX9TyMUhijYWoxopt1LixFQEput",
      "include_colab_link": true
    },
    "kernelspec": {
      "name": "python3",
      "display_name": "Python 3"
    },
    "language_info": {
      "name": "python"
    }
  },
  "cells": [
    {
      "cell_type": "markdown",
      "metadata": {
        "id": "view-in-github",
        "colab_type": "text"
      },
      "source": [
        "<a href=\"https://colab.research.google.com/github/Adn02/Intro-to-ML/blob/main/Homework/HW5/HW5Q1.ipynb\" target=\"_parent\"><img src=\"https://colab.research.google.com/assets/colab-badge.svg\" alt=\"Open In Colab\"/></a>"
      ]
    },
    {
      "cell_type": "code",
      "source": [
        "import matplotlib.pyplot as plt\n",
        "import torch.optim as optim\n",
        "import torch"
      ],
      "metadata": {
        "id": "lutQCAxKRqKU"
      },
      "execution_count": 26,
      "outputs": []
    },
    {
      "cell_type": "markdown",
      "source": [
        "# **Pre-processing**"
      ],
      "metadata": {
        "id": "YdhNZ-X5Jgr5"
      }
    },
    {
      "cell_type": "markdown",
      "source": [
        "\n",
        "> **Separating desired Features and Outputs**\n"
      ],
      "metadata": {
        "id": "P7TOheESYHX0"
      }
    },
    {
      "cell_type": "code",
      "source": [
        "x = [0.5, 14.0, 15.0, 28.0, 11.0, 8.0, 3.0, -4.0, 6.0, 13.0, 21.0]      # Y\n",
        "y = [35.7, 55.9, 58.2, 81.9, 56.3, 48.9, 33.9, 21.8, 48.4, 60.4, 68.4]  # X\n",
        "\n",
        "t_c = torch.tensor(y)\n",
        "t_u = torch.tensor(x)"
      ],
      "metadata": {
        "id": "BR2P9oBbxTsy"
      },
      "execution_count": 27,
      "outputs": []
    },
    {
      "cell_type": "markdown",
      "source": [
        "\n",
        "> **Splitting Training and Validation Set**\n"
      ],
      "metadata": {
        "id": "mQegHOhRUvMk"
      }
    },
    {
      "cell_type": "code",
      "source": [
        "samples = t_u.shape[0]\n",
        "values = int(0.2 * samples)\n",
        "\n",
        "shuffle = torch.randperm(samples)\n",
        "train_idx = shuffle[:-values]\n",
        "valid_idx = shuffle[-values:]\n",
        "\n",
        "t_u_train = t_u[train_idx]\n",
        "t_u_valid = t_u[valid_idx]\n",
        "\n",
        "t_c_train = t_c[train_idx]\n",
        "t_c_valid = t_c[valid_idx]\n",
        "\n",
        "t_un_train = 0.1 * t_u_train\n",
        "t_un_valid = 0.1 * t_u_valid"
      ],
      "metadata": {
        "id": "u3BCCgFRIqWd"
      },
      "execution_count": 28,
      "outputs": []
    },
    {
      "cell_type": "markdown",
      "source": [
        "# **Training**"
      ],
      "metadata": {
        "id": "CmEw-pAmceNN"
      }
    },
    {
      "cell_type": "markdown",
      "source": [
        "\n",
        "\n",
        "> **Linear Regression Training**\n",
        "\n",
        "\n"
      ],
      "metadata": {
        "id": "66vEpOuC8tgf"
      }
    },
    {
      "cell_type": "code",
      "source": [
        "def lin_model(t_u, w, b):\n",
        "  return w*t_u + b\n",
        "\n",
        "def lin_training(epochs, optimizer, params, t_u_train, t_u_valid, t_c_train, t_c_valid):\n",
        "  for epoch in range(1, epochs+1):\n",
        "    t_p_train = lin_model(t_u_train, *params)\n",
        "    train_loss = cost(t_p_train, t_c_train)\n",
        "\n",
        "    t_p_valid = lin_model(t_u_valid, *params)\n",
        "    valid_loss = cost(t_p_valid, t_c_valid)\n",
        "\n",
        "    optimizer.zero_grad()\n",
        "    train_loss.backward()\n",
        "    optimizer.step()\n",
        "\n",
        "    if epoch % 500 == 0:\n",
        "      print(f'Epochs: {epoch}, \\tTraining Loss: {train_loss:.6f}, \\tValidation Loss: {valid_loss:.6f}')\n",
        "  return params"
      ],
      "metadata": {
        "id": "4igbJB8m8v9F"
      },
      "execution_count": 29,
      "outputs": []
    },
    {
      "cell_type": "markdown",
      "source": [
        "\n",
        "\n",
        "> **Non-linear Regression Training**\n",
        "\n",
        "\n"
      ],
      "metadata": {
        "id": "FEngeLJQcrY_"
      }
    },
    {
      "cell_type": "code",
      "source": [
        "def nonlin_model(t_u, w2, w1, b):\n",
        "  return w2*t_u**2 + w1*t_u + b\n",
        "\n",
        "def cost(t_p, t_c):\n",
        "  squared_diffs = (t_p - t_c)**2\n",
        "  return squared_diffs.mean()\n",
        "\n",
        "def nonlin_training(epochs, optimizer, params, t_u_train, t_u_valid, t_c_train, t_c_valid):\n",
        "  for epoch in range(1, epochs+1):\n",
        "    t_p_train = nonlin_model(t_u_train, *params)\n",
        "    train_loss = cost(t_p_train, t_c_train)\n",
        "\n",
        "    t_p_valid = nonlin_model(t_u_valid, *params)\n",
        "    valid_loss = cost(t_p_valid, t_c_valid)\n",
        "\n",
        "    optimizer.zero_grad()\n",
        "    train_loss.backward()\n",
        "    optimizer.step()\n",
        "\n",
        "    if epoch % 500 == 0:\n",
        "      print(f'Epochs: {epoch}, \\tTraining Loss: {train_loss:}, \\tValidation Loss: {valid_loss}')\n",
        "  return params"
      ],
      "metadata": {
        "id": "lAkc2_rMZ382"
      },
      "execution_count": 30,
      "outputs": []
    },
    {
      "cell_type": "markdown",
      "source": [
        "# **SGD Optimized Linear Model**"
      ],
      "metadata": {
        "id": "DBaC8cWVcVwc"
      }
    },
    {
      "cell_type": "markdown",
      "source": [
        "> *Trained with LR of* ***1e-1***"
      ],
      "metadata": {
        "id": "JBjQiAHRVlLS"
      }
    },
    {
      "cell_type": "code",
      "source": [
        "params = torch.tensor([1.0, 1.0, 0.0], requires_grad=True)\n",
        "\n",
        "optimizer = optim.SGD([params], lr = 1e-1)\n",
        "\n",
        "print('Learning rate of 0.1')\n",
        "nonlin_training(5000, optimizer, params, t_un_train, t_un_valid, t_c_train, t_c_valid)"
      ],
      "metadata": {
        "colab": {
          "base_uri": "https://localhost:8080/"
        },
        "id": "mQCUR_o9ZZIE",
        "outputId": "34ae2b77-e396-4fba-d909-2f0c64f9af50"
      },
      "execution_count": 31,
      "outputs": [
        {
          "output_type": "stream",
          "name": "stdout",
          "text": [
            "Learning rate of 0.1\n",
            "Epochs: 500, \tTraining Loss: 7.671742, \tValidation Loss: 33.196323\n",
            "Epochs: 1000, \tTraining Loss: 7.656001, \tValidation Loss: 38.149887\n",
            "Epochs: 1500, \tTraining Loss: 7.655884, \tValidation Loss: 38.607559\n",
            "Epochs: 2000, \tTraining Loss: 7.655883, \tValidation Loss: 38.647118\n",
            "Epochs: 2500, \tTraining Loss: 7.655886, \tValidation Loss: 38.649368\n",
            "Epochs: 3000, \tTraining Loss: 7.655886, \tValidation Loss: 38.649368\n",
            "Epochs: 3500, \tTraining Loss: 7.655886, \tValidation Loss: 38.649368\n",
            "Epochs: 4000, \tTraining Loss: 7.655886, \tValidation Loss: 38.649368\n",
            "Epochs: 4500, \tTraining Loss: 7.655886, \tValidation Loss: 38.649368\n",
            "Epochs: 5000, \tTraining Loss: 7.655886, \tValidation Loss: 38.649368\n",
            "\n"
          ]
        },
        {
          "output_type": "execute_result",
          "data": {
            "text/plain": [
              "tensor([-3.1850, 23.4692, 32.3919], requires_grad=True)"
            ]
          },
          "metadata": {},
          "execution_count": 31
        }
      ]
    },
    {
      "cell_type": "markdown",
      "source": [
        "> *Trained with LR of* ***1e-2***"
      ],
      "metadata": {
        "id": "oSL7G0l5ab7_"
      }
    },
    {
      "cell_type": "code",
      "source": [
        "params = torch.tensor([1.0, 1.0, 0.0], requires_grad=True)\n",
        "\n",
        "optimizer = optim.SGD([params], lr = 1e-2)\n",
        "\n",
        "print('Learning rate of 0.01')\n",
        "nonlin_training(5000, optimizer, params, t_un_train, t_un_valid, t_c_train, t_c_valid)"
      ],
      "metadata": {
        "colab": {
          "base_uri": "https://localhost:8080/"
        },
        "id": "60hsgyJ0akgG",
        "outputId": "fc82a4c2-cc40-4b65-d419-f6cd52ed3458"
      },
      "execution_count": 32,
      "outputs": [
        {
          "output_type": "stream",
          "name": "stdout",
          "text": [
            "Learning rate of 0.01\n",
            "Epochs: 500, \tTraining Loss: 9.087526, \tValidation Loss: 17.566803\n",
            "Epochs: 1000, \tTraining Loss: 8.462468, \tValidation Loss: 19.112978\n",
            "Epochs: 1500, \tTraining Loss: 8.149570, \tValidation Loss: 19.588047\n",
            "Epochs: 2000, \tTraining Loss: 7.958066, \tValidation Loss: 21.379097\n",
            "Epochs: 2500, \tTraining Loss: 7.840847, \tValidation Loss: 23.694225\n",
            "Epochs: 3000, \tTraining Loss: 7.769098, \tValidation Loss: 26.065481\n",
            "Epochs: 3500, \tTraining Loss: 7.725186, \tValidation Loss: 28.263466\n",
            "Epochs: 4000, \tTraining Loss: 7.698300, \tValidation Loss: 30.193024\n",
            "Epochs: 4500, \tTraining Loss: 7.681849, \tValidation Loss: 31.830978\n",
            "Epochs: 5000, \tTraining Loss: 7.671783, \tValidation Loss: 33.190887\n",
            "\n"
          ]
        },
        {
          "output_type": "execute_result",
          "data": {
            "text/plain": [
              "tensor([-2.8832, 22.7802, 32.6764], requires_grad=True)"
            ]
          },
          "metadata": {},
          "execution_count": 32
        }
      ]
    },
    {
      "cell_type": "markdown",
      "source": [
        "> *Trained with LR of* ***1e-3***"
      ],
      "metadata": {
        "id": "nf1xB85OacBm"
      }
    },
    {
      "cell_type": "code",
      "source": [
        "params = torch.tensor([1.0, 1.0, 0.0], requires_grad=True)\n",
        "\n",
        "optimizer = optim.SGD([params], lr = 1e-3)\n",
        "\n",
        "print('Learning rate of 0.001')\n",
        "nonlin_training(5000, optimizer, params, t_un_train, t_un_valid, t_c_train, t_c_valid)"
      ],
      "metadata": {
        "colab": {
          "base_uri": "https://localhost:8080/"
        },
        "id": "SC5bo03lallz",
        "outputId": "cc5b8660-6edd-420f-f00f-fb62383d3f0a"
      },
      "execution_count": 33,
      "outputs": [
        {
          "output_type": "stream",
          "name": "stdout",
          "text": [
            "Learning rate of 0.001\n",
            "Epochs: 500, \tTraining Loss: 213.142410, \tValidation Loss: 1405.109985\n",
            "Epochs: 1000, \tTraining Loss: 98.293274, \tValidation Loss: 600.039185\n",
            "Epochs: 1500, \tTraining Loss: 48.179676, \tValidation Loss: 249.094360\n",
            "Epochs: 2000, \tTraining Loss: 26.282156, \tValidation Loss: 104.128716\n",
            "Epochs: 2500, \tTraining Loss: 16.689045, \tValidation Loss: 46.376690\n",
            "Epochs: 3000, \tTraining Loss: 12.462876, \tValidation Loss: 24.845919\n",
            "Epochs: 3500, \tTraining Loss: 10.578659, \tValidation Loss: 17.870245\n",
            "Epochs: 4000, \tTraining Loss: 9.717556, \tValidation Loss: 16.397945\n",
            "Epochs: 4500, \tTraining Loss: 9.304405, \tValidation Loss: 16.755419\n",
            "Epochs: 5000, \tTraining Loss: 9.088370, \tValidation Loss: 17.528862\n",
            "\n"
          ]
        },
        {
          "output_type": "execute_result",
          "data": {
            "text/plain": [
              "tensor([-0.1867, 17.1139, 34.5248], requires_grad=True)"
            ]
          },
          "metadata": {},
          "execution_count": 33
        }
      ]
    },
    {
      "cell_type": "markdown",
      "source": [
        "> *Trained with LR of* ***1e-4***"
      ],
      "metadata": {
        "id": "WUfYKf_VacGb"
      }
    },
    {
      "cell_type": "code",
      "source": [
        "params = torch.tensor([1.0, 1.0, 0.0], requires_grad=True)\n",
        "\n",
        "optimizer = optim.SGD([params], lr = 1e-4)\n",
        "\n",
        "print('Learning rate of 0.0001')\n",
        "nonlin_training(5000, optimizer, params, t_un_train, t_un_valid, t_c_train, t_c_valid)"
      ],
      "metadata": {
        "colab": {
          "base_uri": "https://localhost:8080/"
        },
        "id": "w_x0s1c-ankn",
        "outputId": "e1b17a29-7cbd-47cd-8c7f-aa6124708508"
      },
      "execution_count": 34,
      "outputs": [
        {
          "output_type": "stream",
          "name": "stdout",
          "text": [
            "Learning rate of 0.0001\n",
            "Epochs: 500, \tTraining Loss: 1099.033691, \tValidation Loss: 217.989456\n",
            "Epochs: 1000, \tTraining Loss: 617.492310, \tValidation Loss: 448.513794\n",
            "Epochs: 1500, \tTraining Loss: 441.717407, \tValidation Loss: 1039.463867\n",
            "Epochs: 2000, \tTraining Loss: 366.216553, \tValidation Loss: 1454.823364\n",
            "Epochs: 2500, \tTraining Loss: 324.563263, \tValidation Loss: 1659.147827\n",
            "Epochs: 3000, \tTraining Loss: 295.206818, \tValidation Loss: 1715.516235\n",
            "Epochs: 3500, \tTraining Loss: 271.084381, \tValidation Loss: 1684.537231\n",
            "Epochs: 4000, \tTraining Loss: 249.817200, \tValidation Loss: 1607.386108\n",
            "Epochs: 4500, \tTraining Loss: 230.544296, \tValidation Loss: 1508.826660\n",
            "Epochs: 5000, \tTraining Loss: 212.902603, \tValidation Loss: 1402.843018\n",
            "\n"
          ]
        },
        {
          "output_type": "execute_result",
          "data": {
            "text/plain": [
              "tensor([10.6444, 12.2568, 16.3887], requires_grad=True)"
            ]
          },
          "metadata": {},
          "execution_count": 34
        }
      ]
    },
    {
      "cell_type": "markdown",
      "source": [
        "# **Adam Optimized Linear Model**"
      ],
      "metadata": {
        "id": "0sNqhdDjwlxF"
      }
    },
    {
      "cell_type": "markdown",
      "source": [
        "> *Trained with LR of* ***1e-1***"
      ],
      "metadata": {
        "id": "Yj0i4qutTbVb"
      }
    },
    {
      "cell_type": "code",
      "source": [
        "params = torch.tensor([1.0, 1.0, 0.0], requires_grad=True)\n",
        "\n",
        "optimizer = optim.Adam([params], lr = 1e-1)\n",
        "\n",
        "print('Learning rate of 0.1')\n",
        "nonlin_training(5000, optimizer, params, t_u_train, t_u_valid, t_c_train, t_c_valid)"
      ],
      "metadata": {
        "colab": {
          "base_uri": "https://localhost:8080/"
        },
        "id": "OdpKAha4be5i",
        "outputId": "3003942f-4f94-4af1-fa48-d31fe8c5c0ff"
      },
      "execution_count": 35,
      "outputs": [
        {
          "output_type": "stream",
          "name": "stdout",
          "text": [
            "Learning rate of 0.1\n",
            "Epochs: 500, \tTraining Loss: 39.121788, \tValidation Loss: 693.821411\n",
            "Epochs: 1000, \tTraining Loss: 18.315025, \tValidation Loss: 369.643341\n",
            "Epochs: 1500, \tTraining Loss: 9.869279, \tValidation Loss: 134.255051\n",
            "Epochs: 2000, \tTraining Loss: 7.905292, \tValidation Loss: 60.438606\n",
            "Epochs: 2500, \tTraining Loss: 7.669092, \tValidation Loss: 42.742485\n",
            "Epochs: 3000, \tTraining Loss: 7.656155, \tValidation Loss: 39.200283\n",
            "Epochs: 3500, \tTraining Loss: 7.655886, \tValidation Loss: 38.692837\n",
            "Epochs: 4000, \tTraining Loss: 7.655885, \tValidation Loss: 38.652603\n",
            "Epochs: 4500, \tTraining Loss: 7.655881, \tValidation Loss: 38.652588\n",
            "Epochs: 5000, \tTraining Loss: 7.655885, \tValidation Loss: 38.652035\n",
            "\n"
          ]
        },
        {
          "output_type": "execute_result",
          "data": {
            "text/plain": [
              "tensor([-3.1851e-02,  2.3470e+00,  3.2392e+01], requires_grad=True)"
            ]
          },
          "metadata": {},
          "execution_count": 35
        }
      ]
    },
    {
      "cell_type": "markdown",
      "source": [
        "> *Trained with LR of* ***1e-2***"
      ],
      "metadata": {
        "id": "tcmbDHxObbfs"
      }
    },
    {
      "cell_type": "code",
      "source": [
        "params = torch.tensor([1.0, 1.0, 0.0], requires_grad=True)\n",
        "\n",
        "optimizer = optim.Adam([params], lr = 1e-2)\n",
        "\n",
        "print('Learning rate of 0.01')\n",
        "nonlin_training(5000, optimizer, params, t_u_train, t_u_valid, t_c_train, t_c_valid)"
      ],
      "metadata": {
        "colab": {
          "base_uri": "https://localhost:8080/"
        },
        "id": "tnEzsq5mbfKP",
        "outputId": "15208db2-6af7-417a-a5d5-f5bf9e695580"
      },
      "execution_count": 36,
      "outputs": [
        {
          "output_type": "stream",
          "name": "stdout",
          "text": [
            "Learning rate of 0.01\n",
            "Epochs: 500, \tTraining Loss: 650.522888, \tValidation Loss: 3573.849854\n",
            "Epochs: 1000, \tTraining Loss: 404.699432, \tValidation Loss: 1769.428345\n",
            "Epochs: 1500, \tTraining Loss: 221.609467, \tValidation Loss: 688.049438\n",
            "Epochs: 2000, \tTraining Loss: 115.815536, \tValidation Loss: 372.220245\n",
            "Epochs: 2500, \tTraining Loss: 67.367706, \tValidation Loss: 491.828766\n",
            "Epochs: 3000, \tTraining Loss: 48.737801, \tValidation Loss: 684.195312\n",
            "Epochs: 3500, \tTraining Loss: 40.540676, \tValidation Loss: 759.658936\n",
            "Epochs: 4000, \tTraining Loss: 34.480453, \tValidation Loss: 709.154907\n",
            "Epochs: 4500, \tTraining Loss: 28.638893, \tValidation Loss: 594.456604\n",
            "Epochs: 5000, \tTraining Loss: 23.063032, \tValidation Loss: 465.036469\n",
            "\n"
          ]
        },
        {
          "output_type": "execute_result",
          "data": {
            "text/plain": [
              "tensor([-0.1077,  4.2849, 22.1583], requires_grad=True)"
            ]
          },
          "metadata": {},
          "execution_count": 36
        }
      ]
    },
    {
      "cell_type": "markdown",
      "source": [
        "> *Trained with LR of* ***1e-3***"
      ],
      "metadata": {
        "id": "PBGnpYS9bblJ"
      }
    },
    {
      "cell_type": "code",
      "source": [
        "params = torch.tensor([1.0, 1.0, 0.0], requires_grad=True)\n",
        "\n",
        "optimizer = optim.Adam([params], lr = 1e-3)\n",
        "\n",
        "print('Learning rate of 0.01')\n",
        "nonlin_training(5000, optimizer, params, t_u_train, t_u_valid, t_c_train, t_c_valid)"
      ],
      "metadata": {
        "colab": {
          "base_uri": "https://localhost:8080/"
        },
        "id": "gLINIoS2bgBS",
        "outputId": "11217485-016e-4851-8e1d-43ad987e219a"
      },
      "execution_count": 37,
      "outputs": [
        {
          "output_type": "stream",
          "name": "stdout",
          "text": [
            "Learning rate of 0.01\n",
            "Epochs: 500, \tTraining Loss: 6178.952148, \tValidation Loss: 75720.898438\n",
            "Epochs: 1000, \tTraining Loss: 1391.339600, \tValidation Loss: 18578.496094\n",
            "Epochs: 1500, \tTraining Loss: 831.342041, \tValidation Loss: 6783.752930\n",
            "Epochs: 2000, \tTraining Loss: 783.777588, \tValidation Loss: 4804.610352\n",
            "Epochs: 2500, \tTraining Loss: 752.728149, \tValidation Loss: 4376.656250\n",
            "Epochs: 3000, \tTraining Loss: 717.241638, \tValidation Loss: 4075.863281\n",
            "Epochs: 3500, \tTraining Loss: 677.316040, \tValidation Loss: 3745.353760\n",
            "Epochs: 4000, \tTraining Loss: 633.284851, \tValidation Loss: 3381.560303\n",
            "Epochs: 4500, \tTraining Loss: 585.705811, \tValidation Loss: 2992.129883\n",
            "Epochs: 5000, \tTraining Loss: 535.459045, \tValidation Loss: 2589.082031\n",
            "\n"
          ]
        },
        {
          "output_type": "execute_result",
          "data": {
            "text/plain": [
              "tensor([0.1367, 1.4438, 2.5125], requires_grad=True)"
            ]
          },
          "metadata": {},
          "execution_count": 37
        }
      ]
    },
    {
      "cell_type": "markdown",
      "source": [
        "> *Trained with LR of* ***1e-4***"
      ],
      "metadata": {
        "id": "TCFIfv3Lbbp2"
      }
    },
    {
      "cell_type": "code",
      "source": [
        "params = torch.tensor([1.0, 1.0, 0.0], requires_grad=True)\n",
        "\n",
        "optimizer = optim.Adam([params], lr = 1e-4)\n",
        "\n",
        "print('Learning rate of 0.01')\n",
        "nonlin_training(5000, optimizer, params, t_u_train, t_u_valid, t_c_train, t_c_valid)"
      ],
      "metadata": {
        "colab": {
          "base_uri": "https://localhost:8080/"
        },
        "id": "DtdXZtGcbgv_",
        "outputId": "591f7a3f-0ba6-4168-f775-7885b0c8390c"
      },
      "execution_count": 38,
      "outputs": [
        {
          "output_type": "stream",
          "name": "stdout",
          "text": [
            "Learning rate of 0.01\n",
            "Epochs: 500, \tTraining Loss: 22966.373047, \tValidation Loss: 238178.062500\n",
            "Epochs: 1000, \tTraining Loss: 20151.880859, \tValidation Loss: 212074.671875\n",
            "Epochs: 1500, \tTraining Loss: 17593.783203, \tValidation Loss: 188099.687500\n",
            "Epochs: 2000, \tTraining Loss: 15270.564453, \tValidation Loss: 166071.468750\n",
            "Epochs: 2500, \tTraining Loss: 13164.777344, \tValidation Loss: 145842.968750\n",
            "Epochs: 3000, \tTraining Loss: 11262.291992, \tValidation Loss: 127296.289062\n",
            "Epochs: 3500, \tTraining Loss: 9551.613281, \tValidation Loss: 110336.882812\n",
            "Epochs: 4000, \tTraining Loss: 8023.200684, \tValidation Loss: 94888.460938\n",
            "Epochs: 4500, \tTraining Loss: 6668.897461, \tValidation Loss: 80888.195312\n",
            "Epochs: 5000, \tTraining Loss: 5481.304688, \tValidation Loss: 68281.937500\n",
            "\n"
          ]
        },
        {
          "output_type": "execute_result",
          "data": {
            "text/plain": [
              "tensor([ 0.5559,  0.5601, -0.4257], requires_grad=True)"
            ]
          },
          "metadata": {},
          "execution_count": 38
        }
      ]
    },
    {
      "cell_type": "markdown",
      "source": [
        "# **Plotting SGD Optimized Linear vs Nonlinear Models**"
      ],
      "metadata": {
        "id": "kZEoVBjlcOYH"
      }
    },
    {
      "cell_type": "code",
      "source": [
        "lin_params = torch.tensor([1.0, 0.0], requires_grad=True)\n",
        "nonlin_params = torch.tensor([1.0, 1.0, 0.0], requires_grad=True)\n",
        "\n",
        "lin_optimizer = optim.SGD([lin_params], lr = 1e-2)\n",
        "nonlin_optimizer = optim.SGD([nonlin_params], lr = 1e-3)\n",
        "\n",
        "lin = lin_training(5000, lin_optimizer, lin_params, t_un_train, t_un_valid, t_c_train, t_c_valid)\n",
        "non = nonlin_training(5000, nonlin_optimizer, nonlin_params, t_un_train, t_un_valid, t_c_train, t_c_valid)\n",
        "\n",
        "t_p_lin = lin_model(t_u, *lin).detach().numpy()\n",
        "t_p_non = nonlin_model(t_u, *non).detach().numpy()\n",
        "\n",
        "plt.scatter(t_u, t_c, label = 'Data points')\n",
        "plt.plot(t_u, t_p_lin)\n",
        "plt.plot(t_u, t_p_non)\n",
        "\n",
        "plt.legend()\n",
        "plt.show()"
      ],
      "metadata": {
        "colab": {
          "base_uri": "https://localhost:8080/",
          "height": 638
        },
        "id": "6k8ugHfT5jRi",
        "outputId": "71962106-54de-4ebd-9321-406ae136d83a"
      },
      "execution_count": 39,
      "outputs": [
        {
          "output_type": "stream",
          "name": "stdout",
          "text": [
            "\n",
            "Epochs: 500, \tTraining Loss: 213.142410, \tValidation Loss: 1405.109985\n",
            "Epochs: 1000, \tTraining Loss: 98.293274, \tValidation Loss: 600.039185\n",
            "Epochs: 1500, \tTraining Loss: 48.179676, \tValidation Loss: 249.094360\n",
            "Epochs: 2000, \tTraining Loss: 26.282156, \tValidation Loss: 104.128716\n",
            "Epochs: 2500, \tTraining Loss: 16.689045, \tValidation Loss: 46.376690\n",
            "Epochs: 3000, \tTraining Loss: 12.462876, \tValidation Loss: 24.845919\n",
            "Epochs: 3500, \tTraining Loss: 10.578659, \tValidation Loss: 17.870245\n",
            "Epochs: 4000, \tTraining Loss: 9.717556, \tValidation Loss: 16.397945\n",
            "Epochs: 4500, \tTraining Loss: 9.304405, \tValidation Loss: 16.755419\n",
            "Epochs: 5000, \tTraining Loss: 9.088370, \tValidation Loss: 17.528862\n",
            "\n"
          ]
        },
        {
          "output_type": "display_data",
          "data": {
            "text/plain": [
              "<Figure size 640x480 with 1 Axes>"
            ],
            "image/png": "[encoded data removed]"
          },
          "metadata": {}
        }
      ]
    }
  ]
}