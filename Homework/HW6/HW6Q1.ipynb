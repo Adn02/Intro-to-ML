{
  "nbformat": 4,
  "nbformat_minor": 0,
  "metadata": {
    "colab": {
      "provenance": [],
      "authorship_tag": "ABX9TyO2K+mBqTFbmxKgaKeijDKF",
      "include_colab_link": true
    },
    "kernelspec": {
      "name": "python3",
      "display_name": "Python 3"
    },
    "language_info": {
      "name": "python"
    }
  },
  "cells": [
    {
      "cell_type": "markdown",
      "metadata": {
        "id": "view-in-github",
        "colab_type": "text"
      },
      "source": [
        "<a href=\"https://colab.research.google.com/github/Adn02/Intro-to-ML/blob/main/Homework/HW6/HW6Q1.ipynb\" target=\"_parent\"><img src=\"https://colab.research.google.com/assets/colab-badge.svg\" alt=\"Open In Colab\"/></a>"
      ]
    },
    {
      "cell_type": "code",
      "execution_count": null,
      "metadata": {
        "id": "eSG8jkafJBo8"
      },
      "outputs": [],
      "source": [
        "from sklearn.model_selection import train_test_split\n",
        "from sklearn.preprocessing import StandardScaler\n",
        "import matplotlib.pyplot as plt\n",
        "import torch.optim as optim\n",
        "import torch.nn as nn\n",
        "import pandas as pd\n",
        "import numpy as np\n",
        "import torch\n",
        "\n",
        "url = \"https://raw.githubusercontent.com/Adn02/Intro-to-ML/main/Datasets/Housing.csv\"\n",
        "hf = pd.read_csv(url)\n",
        "\n",
        "variable_list = ['mainroad', 'guestroom', 'basement', 'hotwaterheating', 'airconditioning', 'prefarea']\n",
        "\n",
        "def binary_mapping(x):\n",
        "  return x.map({'no' : 0, 'yes' : 1})"
      ]
    },
    {
      "cell_type": "markdown",
      "source": [
        "# **Pre-processing and Training**"
      ],
      "metadata": {
        "id": "bOWqGhpYKELx"
      }
    },
    {
      "cell_type": "markdown",
      "source": [
        "\n",
        "> **Separating desired Features and Outputs**\n"
      ],
      "metadata": {
        "id": "h5jzMlDULxst"
      }
    },
    {
      "cell_type": "code",
      "source": [
        "hf[variable_list] = hf[variable_list].apply(binary_mapping)\n",
        "hf = hf.drop('furnishingstatus', axis=1)\n",
        "\n",
        "y = hf.pop('price').values.reshape(-1,1)\n",
        "features = hf.columns.tolist()\n",
        "x = hf.values"
      ],
      "metadata": {
        "id": "hyJa-82EKJOq"
      },
      "execution_count": null,
      "outputs": []
    },
    {
      "cell_type": "markdown",
      "source": [
        "\n",
        "> **Splitting Training and Validation Set**\n"
      ],
      "metadata": {
        "id": "RvPAy42zLz12"
      }
    },
    {
      "cell_type": "code",
      "source": [
        "x_n = torch.tensor(StandardScaler().fit_transform(x), dtype=torch.float32)\n",
        "y_n = torch.tensor(StandardScaler().fit_transform(y), dtype=torch.float32)\n",
        "\n",
        "\n",
        "x_train, x_valid, y_train, y_valid = train_test_split(x_n, y_n, test_size=0.8, random_state=42)"
      ],
      "metadata": {
        "id": "C7EV4E8mKYtP"
      },
      "execution_count": null,
      "outputs": []
    },
    {
      "cell_type": "markdown",
      "source": [
        "\n",
        "> **Training Loop**\n"
      ],
      "metadata": {
        "id": "LjPWny9zL1NN"
      }
    },
    {
      "cell_type": "code",
      "source": [
        "def training(epochs, optimizer, model, loss_fn, x_train, x_valid, y_train, y_valid):\n",
        "  for epoch in range(1, epochs+1):\n",
        "    h_train = model(x_train)\n",
        "    train_loss = loss_fn(h_train, y_train)\n",
        "\n",
        "    h_valid = model(x_valid)\n",
        "    valid_loss = loss_fn(h_valid, y_valid)\n",
        "\n",
        "    optimizer.zero_grad()\n",
        "    train_loss.backward()\n",
        "    optimizer.step()\n",
        "\n",
        "    if epoch % 1000 == 0:\n",
        "      print(f\"Epoch {epoch}. Training loss {train_loss.item()}, Validation loss {valid_loss.item()}\")\n"
      ],
      "metadata": {
        "id": "BZ3K-LfxMb1K"
      },
      "execution_count": null,
      "outputs": []
    },
    {
      "cell_type": "markdown",
      "source": [
        "**1a. SGD Optimized Linear Model with 1 hidden layer**"
      ],
      "metadata": {
        "id": "CxvItR_VRlJs"
      }
    },
    {
      "cell_type": "code",
      "source": [
        "seq_model = nn.Sequential(\n",
        "    nn.Linear(11, 32),\n",
        "    nn.Tanh(),\n",
        "    nn.Linear(32, 1))\n",
        "\n",
        "optimizer = optim.SGD(seq_model.parameters(), lr=1e-3)\n",
        "training(\n",
        "    epochs = 5000,\n",
        "    optimizer = optimizer,\n",
        "    model = seq_model,\n",
        "    loss_fn = nn.MSELoss(),\n",
        "    x_train = x_train,\n",
        "    x_valid = x_valid,\n",
        "    y_train = y_train,\n",
        "    y_valid = y_valid)"
      ],
      "metadata": {
        "id": "F72rJjDfOUbi",
        "colab": {
          "base_uri": "https://localhost:8080/"
        },
        "outputId": "2626643b-2349-475e-da05-ec7f2efb07e9"
      },
      "execution_count": null,
      "outputs": [
        {
          "output_type": "stream",
          "name": "stdout",
          "text": [
            "Epoch 1000. Training loss 0.3326016068458557, Validation loss 0.3849572241306305\n",
            "Epoch 2000. Training loss 0.2950606048107147, Validation loss 0.41761109232902527\n",
            "Epoch 3000. Training loss 0.27859264612197876, Validation loss 0.43516623973846436\n",
            "Epoch 4000. Training loss 0.26552945375442505, Validation loss 0.44038063287734985\n",
            "Epoch 5000. Training loss 0.2530863285064697, Validation loss 0.44054079055786133\n"
          ]
        }
      ]
    },
    {
      "cell_type": "markdown",
      "source": [
        "**1b. SGD Optimized Linear Model with 3 hidden layer**"
      ],
      "metadata": {
        "id": "bv7SBVCTRjFr"
      }
    },
    {
      "cell_type": "code",
      "source": [
        "seq_model = nn.Sequential(\n",
        "    nn.Linear(11, 32),\n",
        "    nn.Tanh(),\n",
        "    nn.Linear(32, 64),\n",
        "    nn.Tanh(),\n",
        "    nn.Linear(64, 16),\n",
        "    nn.Tanh(),\n",
        "    nn.Linear(16,1))\n",
        "\n",
        "optimizer = optim.SGD(seq_model.parameters(), lr=1e-3)\n",
        "training(\n",
        "    epochs = 5000,\n",
        "    optimizer = optimizer,\n",
        "    model = seq_model,\n",
        "    loss_fn = nn.MSELoss(),\n",
        "    x_train = x_train,\n",
        "    x_valid = x_valid,\n",
        "    y_train = y_train,\n",
        "    y_valid = y_valid)"
      ],
      "metadata": {
        "id": "KOHF8pRcR11N",
        "colab": {
          "base_uri": "https://localhost:8080/"
        },
        "outputId": "a923f62d-9a0e-494d-c459-ba57af01aae2"
      },
      "execution_count": null,
      "outputs": [
        {
          "output_type": "stream",
          "name": "stdout",
          "text": [
            "Epoch 1000. Training loss 0.3663615882396698, Validation loss 0.3968311548233032\n",
            "Epoch 2000. Training loss 0.33083289861679077, Validation loss 0.4124097228050232\n",
            "Epoch 3000. Training loss 0.3138578236103058, Validation loss 0.43489736318588257\n",
            "Epoch 4000. Training loss 0.30099061131477356, Validation loss 0.4498317539691925\n",
            "Epoch 5000. Training loss 0.2891862094402313, Validation loss 0.45809292793273926\n"
          ]
        }
      ]
    }
  ]
}