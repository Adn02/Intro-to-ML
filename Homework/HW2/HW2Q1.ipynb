{
  "nbformat": 4,
  "nbformat_minor": 0,
  "metadata": {
    "colab": {
      "provenance": [],
      "authorship_tag": "ABX9TyPTc8eizE5hfPbo4RHkA+xo",
      "include_colab_link": true
    },
    "kernelspec": {
      "name": "python3",
      "display_name": "Python 3"
    },
    "language_info": {
      "name": "python"
    }
  },
  "cells": [
    {
      "cell_type": "markdown",
      "metadata": {
        "id": "view-in-github",
        "colab_type": "text"
      },
      "source": [
        "<a href=\"https://colab.research.google.com/github/Adn02/Intro-to-ML/blob/main/Homework/HW2/HW2Q1.ipynb\" target=\"_parent\"><img src=\"https://colab.research.google.com/assets/colab-badge.svg\" alt=\"Open In Colab\"/></a>"
      ]
    },
    {
      "cell_type": "markdown",
      "source": [
        "**Importing Libraries and Housing Dataset**"
      ],
      "metadata": {
        "id": "SFjSQAUHwUfj"
      }
    },
    {
      "cell_type": "code",
      "execution_count": 4,
      "metadata": {
        "id": "IhFrAZi8bDGt"
      },
      "outputs": [],
      "source": [
        "from sklearn.preprocessing import MinMaxScaler\n",
        "from sklearn.model_selection import train_test_split\n",
        "import matplotlib.pyplot as plt\n",
        "import seaborn as sns\n",
        "import pandas as pd\n",
        "import numpy as np\n",
        "\n",
        "url = \"https://raw.githubusercontent.com/Adn02/Intro-to-ML/main/Datasets/Housing.csv\"\n",
        "hf = pd.read_csv(url)"
      ]
    },
    {
      "cell_type": "markdown",
      "source": [
        "**Pre-processing without Normalization/Standardization**"
      ],
      "metadata": {
        "id": "D9HiU6v8wY0K"
      }
    },
    {
      "cell_type": "code",
      "source": [
        "variable_list = ['mainroad', 'guestroom', 'basement', 'hotwaterheating', 'airconditioning', 'prefarea']\n",
        "furnishing_status = ['furnishingstatus']\n",
        "\n",
        "def binary_mapping(x):\n",
        "  return x.map({'no' : 0, 'yes' : 1})\n",
        "\n",
        "def integer_mapping(x):\n",
        "  return x.map({'unfurnished' : 0, 'semi-furnished' : 1, 'furnished' : 2})\n",
        "\n",
        "hf[variable_list] = hf[variable_list].apply(binary_mapping)\n",
        "hf[furnishing_status] = hf[furnishing_status].apply(integer_mapping)\n",
        "\n",
        "np.random.seed(1)\n",
        "df_training, df_validation = train_test_split(hf, train_size = 0.8, test_size = 0.2, random_state = 100)\n",
        "\n",
        "y_train = df_training.pop('price')\n",
        "total_train = df_training\n",
        "\n",
        "y_valid = df_validation.pop('price')\n",
        "total_valid = df_validation"
      ],
      "metadata": {
        "id": "OK4L5JH1VxlV"
      },
      "execution_count": 5,
      "outputs": []
    },
    {
      "cell_type": "code",
      "source": [
        "inputs = ['area', 'bedrooms', 'bathrooms','stories', 'parking']\n",
        "\n",
        "training_inputs = df_training[inputs]\n",
        "x_train = np.c_[np.ones((len(training_inputs), 1)), training_inputs]\n",
        "\n",
        "validation_inputs = df_validation[inputs]\n",
        "x_valid = np.c_[np.ones((len(validation_inputs), 1)), validation_inputs]\n",
        "\n",
        "n = x_train.shape[1]\n",
        "m_train = len(x_train)\n",
        "m_valid = len(x_valid)\n",
        "theta = np.zeros(n)\n",
        "\n",
        "learning_rate = 0.01\n",
        "iterations = 500\n",
        "train_losses = []\n",
        "valid_losses = []\n",
        "\n",
        "for i in range(iterations):\n",
        "  h_theta = x_train.dot(theta)\n",
        "  error = np.subtract(h_theta, y_train)\n",
        "  gradient = (1 / m_train) * (x_train.transpose().dot(error))\n",
        "\n",
        "  theta -= (learning_rate * gradient)\n",
        "\n",
        "  train_loss = 1 / ( 2 * m_train) * np.sum(np.square((h_theta - y_train)))\n",
        "  valid_loss = 1 / ( 2 * m_valid) * np.sum(np.square((x_valid.dot(theta) - y_valid)))\n",
        "\n",
        "  train_losses.append(train_loss)\n",
        "  valid_losses.append(valid_loss)\n",
        "\n",
        "plt.plot(train_losses, label=\"Training Loss\")\n",
        "plt.plot(valid_losses, label=\"Validation Loss\")\n",
        "plt.xlabel(\"Iteration\")\n",
        "plt.ylabel(\"Loss\")\n",
        "plt.legend()\n",
        "plt.title(\"Training and Validation Loss Over Iterations\")\n",
        "plt.show()"
      ],
      "metadata": {
        "id": "SRPKW5AibgE3",
        "colab": {
          "base_uri": "https://localhost:8080/",
          "height": 541
        },
        "outputId": "68ae3c0f-1739-4f49-ae82-06494145f2e8"
      },
      "execution_count": 6,
      "outputs": [
        {
          "output_type": "stream",
          "name": "stderr",
          "text": [
            "/usr/local/lib/python3.10/dist-packages/pandas/core/arraylike.py:402: RuntimeWarning: overflow encountered in square\n",
            "  result = getattr(ufunc, method)(*inputs, **kwargs)\n",
            "<ipython-input-6-20a615e1f139>:24: RuntimeWarning: invalid value encountered in subtract\n",
            "  theta -= (learning_rate * gradient)\n"
          ]
        },
        {
          "output_type": "display_data",
          "data": {
            "text/plain": [
              "<Figure size 640x480 with 1 Axes>"
            ],
            "image/png": "[encoded data removed]"
          },
          "metadata": {}
        }
      ]
    }
  ]
}